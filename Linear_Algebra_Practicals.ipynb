{
 "cells": [
  {
   "cell_type": "markdown",
   "id": "7869e015-92ec-41df-b9a9-d4b02e502d51",
   "metadata": {},
   "source": [
    "## Question 1:\n",
    "### Create and transform vectors and matrices into transpose and conjugate transpose. "
   ]
  },
  {
   "cell_type": "code",
   "execution_count": 2,
   "id": "1cadb60d-503a-4717-a7bc-5022471fc7b1",
   "metadata": {},
   "outputs": [
    {
     "name": "stdout",
     "output_type": "stream",
     "text": [
      "MATRIX IS------------------------------\n",
      "\n",
      " [[  8  14  -6]\n",
      " [ 12   7   4]\n",
      " [-11   3   2]] \n",
      "\n",
      "\n",
      "TRANSPOSE OF MATRIX IS-----------------\n",
      "\n",
      " [[  8  12 -11]\n",
      " [ 14   7   3]\n",
      " [ -6   4   2]] \n",
      "\n",
      "\n",
      "MATRIX IS----------------------------\n",
      "\n",
      " [[ 2.+3.j  1.+1.j]\n",
      " [ 4.-7.j  6.+1.j]\n",
      " [-3.-2.j  4.+2.j]] \n",
      "\n",
      "\n",
      "CONJUGATE OF MATRIX IS---------------\n",
      "\n",
      " [[ 2.-3.j  1.-1.j]\n",
      " [ 4.+7.j  6.-1.j]\n",
      " [-3.+2.j  4.-2.j]] \n",
      "\n",
      "\n",
      "TRANSPOSE OF MATRIX IS---------------\n",
      "\n",
      " [[ 2.-3.j  4.+7.j -3.+2.j]\n",
      " [ 1.-1.j  6.-1.j  4.-2.j]] \n",
      "\n",
      "\n"
     ]
    }
   ],
   "source": [
    "import numpy as np\n",
    "import pandas as pd\n",
    "#CREATE A MATRIX\n",
    "arr3=np.array([[8,14,-6],[12,7,4],[-11,3,2]])\n",
    "print(\"MATRIX IS------------------------------\\n\\n\",arr3,\"\\n\\n\")\n",
    "#TRANSFORMED INTO TRANSPOSE MATRIX\n",
    "print(\"TRANSPOSE OF MATRIX IS-----------------\\n\\n\",arr3.transpose(),\"\\n\\n\")\n",
    "#TRANSFORMED INTO CONJUGATE TRANSPOSE\n",
    "arr4=np.array([[2+3j,1+1j],[4-7j,6+1j],[-3-2j,4+2j]])\n",
    "print(\"MATRIX IS----------------------------\\n\\n\",arr4,\"\\n\\n\")\n",
    "cjarr4=arr4.conjugate()\n",
    "print(\"CONJUGATE OF MATRIX IS---------------\\n\\n\",cjarr4,\"\\n\\n\")\n",
    "trarr4=cjarr4.transpose()\n",
    "print(\"TRANSPOSE OF MATRIX IS---------------\\n\\n\",trarr4,\"\\n\\n\")\n"
   ]
  },
  {
   "cell_type": "markdown",
   "id": "52035aef-53c1-45e3-b946-2266c43237b7",
   "metadata": {},
   "source": [
    "## Question 2:\n",
    "### Generate the matrix into echelon form and find its rank."
   ]
  },
  {
   "cell_type": "code",
   "execution_count": 3,
   "id": "3404ebff-a297-4f1e-b6e5-58abfef53c36",
   "metadata": {},
   "outputs": [
    {
     "name": "stdout",
     "output_type": "stream",
     "text": [
      "MATRIX IS------------------\n",
      "\n",
      " Matrix([[4, 0, 1], [2, 0, 2], [3, 0, 3]]) \n",
      "\n",
      "\n",
      "MATRIX IN REDUCED ROW ECHELON FORM IS------\n",
      "\n",
      " (Matrix([\n",
      "[1, 0, 0],\n",
      "[0, 0, 1],\n",
      "[0, 0, 0]]), (0, 2)) \n",
      "\n",
      "-------------------------------------------\n",
      "\n",
      "RANK OF THE MATRIX IS : 2\n"
     ]
    }
   ],
   "source": [
    "#GENERATING A MATRIX\n",
    "import sympy as sp\n",
    "arr5=sp.Matrix([[4,0,1],[2,0,2],[3,0,3]])\n",
    "print(\"MATRIX IS------------------\\n\\n\",arr5,\"\\n\\n\")\n",
    "\n",
    "#CONVERTING INTO REDUCED ROW ECHELON FORM\n",
    "mrref=arr5.rref()\n",
    "print(\"MATRIX IN REDUCED ROW ECHELON FORM IS------\\n\\n\",mrref,\"\\n\")\n",
    "\n",
    "#RANK OF A MATRIX\n",
    "rk=arr5.rank()\n",
    "print(\"-------------------------------------------\\n\")\n",
    "print(\"RANK OF THE MATRIX IS :\",rk)\n"
   ]
  },
  {
   "cell_type": "markdown",
   "id": "02ab0a36-5f77-4a05-90da-203c42598861",
   "metadata": {},
   "source": [
    "## Question 3:\n",
    "### Find the determinant, cofactor,  adjoint , inverse, using numpy."
   ]
  },
  {
   "cell_type": "code",
   "execution_count": 4,
   "id": "0f52932e-a19f-41cb-81e2-16e3e4699d62",
   "metadata": {},
   "outputs": [
    {
     "name": "stdout",
     "output_type": "stream",
     "text": [
      "MATRIX IS: \n",
      "\n",
      " [[1 2 3]\n",
      " [0 1 4]\n",
      " [5 6 0]] \n",
      "\n",
      "\n",
      "DETERMINANT OF MATRIX IS: \n",
      "\n",
      " 1 \n",
      "\n",
      "\n",
      "COFACTOR OF MATRIX IS: \n",
      "\n",
      " [[-24.  20.  -5.]\n",
      " [ 18. -15.   4.]\n",
      " [  5.  -4.   1.]] \n",
      "\n",
      "\n",
      "ADJOINT OF MATRIX IS: \n",
      "\n",
      " [[-24.  18.   5.]\n",
      " [ 20. -15.  -4.]\n",
      " [ -5.   4.   1.]] \n",
      "\n",
      "\n",
      "INVERSE OF MATRIX IS: \n",
      "\n",
      " [[-24.  18.   5.]\n",
      " [ 20. -15.  -4.]\n",
      " [ -5.   4.   1.]] \n",
      "\n",
      "\n"
     ]
    }
   ],
   "source": [
    "import numpy as np\n",
    "def op_numpy(mat1):\n",
    "    det1=np.linalg.det(mat1)\n",
    "    if det1!=0:   \n",
    "        inv1=np.linalg.inv(mat1)\n",
    "        cof1=inv1.transpose()\n",
    "        adj1=cof1.transpose()\n",
    "    else:\n",
    "        print(\"MATRIX IS SINGULAR\")\n",
    "    return (round(det1),inv1,cof1,adj1)\n",
    "mat1=np.array([[1,2,3],[0,1,4],[5,6,0]])\n",
    "print(\"MATRIX IS: \\n\\n\", mat1,\"\\n\\n\")\n",
    "D,I,C,A=op_numpy(mat1)\n",
    "print(\"DETERMINANT OF MATRIX IS: \\n\\n\", D,\"\\n\\n\")\n",
    "print(\"COFACTOR OF MATRIX IS: \\n\\n\", C, \"\\n\\n\")\n",
    "print(\"ADJOINT OF MATRIX IS: \\n\\n\", A, \"\\n\\n\")\n",
    "print(\"INVERSE OF MATRIX IS: \\n\\n\", I, \"\\n\\n\")"
   ]
  },
  {
   "cell_type": "markdown",
   "id": "af278ac2-d482-4217-992e-24a16f479584",
   "metadata": {},
   "source": [
    "### Find the determinant, cofactor,  adjoint , inverse, using sympy."
   ]
  },
  {
   "cell_type": "code",
   "execution_count": 5,
   "id": "4c11c631-0e1d-4152-8f3a-9535c5e69f4e",
   "metadata": {},
   "outputs": [
    {
     "name": "stdout",
     "output_type": "stream",
     "text": [
      "MATRIX IS : \n",
      "\n",
      " Matrix([[1, 2, 3], [0, 1, 4], [5, 6, 0]]) \n",
      "\n",
      "\n",
      "DETERMINANT OF MATRIX IS: \n",
      "\n",
      " 1 \n",
      "\n",
      "\n",
      "COFACTOR OF MATRIX IS: \n",
      "\n",
      " Matrix([[-24, 20, -5], [18, -15, 4], [5, -4, 1]]) \n",
      "\n",
      "\n",
      "ADJOINT OF MATRIX IS: \n",
      "\n",
      " Matrix([[-24, 18, 5], [20, -15, -4], [-5, 4, 1]]) \n",
      "\n",
      "\n",
      "INVERSE OF MATRIX IS: \n",
      "\n",
      " Matrix([[-24, 18, 5], [20, -15, -4], [-5, 4, 1]]) \n",
      "\n",
      "\n"
     ]
    }
   ],
   "source": [
    "import sympy as sp\n",
    "def op_sympy(mat2):\n",
    "    det2=sp.det(mat2)\n",
    "    if det2!=0:\n",
    "        cof2=mat2.cofactor_matrix()\n",
    "        adj2=mat2.adjugate()\n",
    "        inv2=mat2.inverse_ADJ()\n",
    "    else:\n",
    "        print(\"MATRIX IS SINGULAR\")\n",
    "    return (det2,inv2,cof2,adj2)\n",
    "mat2=sp.Matrix([[1,2,3],[0,1,4],[5,6,0]])\n",
    "print(\"MATRIX IS : \\n\\n\", mat2, \"\\n\\n\")\n",
    "D,I,C,A=op_sympy(mat2)\n",
    "print(\"DETERMINANT OF MATRIX IS: \\n\\n\", D,\"\\n\\n\")\n",
    "print(\"COFACTOR OF MATRIX IS: \\n\\n\", C, \"\\n\\n\")\n",
    "print(\"ADJOINT OF MATRIX IS: \\n\\n\", A, \"\\n\\n\")\n",
    "print(\"INVERSE OF MATRIX IS: \\n\\n\", I, \"\\n\\n\")"
   ]
  },
  {
   "cell_type": "markdown",
   "id": "b5cdb955-c17c-48a7-99f3-c65fcc39f8a1",
   "metadata": {},
   "source": [
    "# Question 4:\n",
    "### Solve a system of Homogenous and Non-Homogenous equations using Gauss Elimination method."
   ]
  },
  {
   "cell_type": "code",
   "execution_count": 7,
   "id": "30a3dd5c-a03c-4937-a8fa-8c07e31137b9",
   "metadata": {},
   "outputs": [
    {
     "name": "stdin",
     "output_type": "stream",
     "text": [
      "ENTER THE NUMBER OF UNKNOWS: 2\n"
     ]
    },
    {
     "name": "stdout",
     "output_type": "stream",
     "text": [
      "\n"
     ]
    },
    {
     "name": "stdin",
     "output_type": "stream",
     "text": [
      "a[0][0]= 1\n",
      "a[0][1]= 2\n",
      "a[0][2]= 3\n",
      "a[1][0]= 4\n",
      "a[1][1]= 5\n",
      "a[1][2]= 6\n"
     ]
    },
    {
     "name": "stdout",
     "output_type": "stream",
     "text": [
      "\n",
      "\n",
      " THE MATRIX IS: \n",
      "\n",
      " [[1. 2. 3.]\n",
      " [4. 5. 6.]]\n",
      "REQUIRED SOLUTION IS:\n",
      "\n",
      "X0 = -1.0\t\tX1 = 2.0\t\t"
     ]
    }
   ],
   "source": [
    "import numpy as np\n",
    "import sys\n",
    "n=int(input(\"ENTER THE NUMBER OF UNKNOWS:\"))\n",
    "print()\n",
    "a=np.zeros((n,n+1))\n",
    "x=np.zeros(n)\n",
    "for i in range(n):\n",
    "    for j in range(n+1):\n",
    "        a[i][j] = int(input( 'a['+str(i)+']['+ str(j)+']='))\n",
    "print(\"\\n\\n THE MATRIX IS: \\n\\n\", a)\n",
    "for i in range(n):\n",
    "    if a[i][i]==0.0:\n",
    "        sys.exit(\"DIVIDE BY ZERO DETECTED\")\n",
    "    for j in range(i+1,n):\n",
    "        ratio=a[j][i]/a[i][i]\n",
    "        for k in range(n+1):\n",
    "            a[j][k]=a[j][k]-ratio*a[i][k]\n",
    "x[n-1]=a[n-1][n]/a[n-1][n-1]\n",
    "for i in range(n-2,-1,-1):\n",
    "    x[i]=a[i][n]\n",
    "    for j in range(i+1,n):\n",
    "        x[i]=x[i]-a[i][j]*x[j]\n",
    "    x[i]=x[i]/a[i][i]\n",
    "print(\"REQUIRED SOLUTION IS:\\n\")\n",
    "for i in range(n):\n",
    "    print(\"X\",i,\" = \",x[i],end=\"\\t\\t\",sep=\"\")"
   ]
  },
  {
   "cell_type": "markdown",
   "id": "8b09f1e5-aa7b-43ab-a11f-391c1f11709a",
   "metadata": {},
   "source": [
    "## Question 5:\n",
    "### Solve a system of homogenous equations using Gauss jordan method."
   ]
  },
  {
   "cell_type": "code",
   "execution_count": 17,
   "id": "67898209-75e4-471a-b8c4-fc6b6cd67a43",
   "metadata": {},
   "outputs": [
    {
     "name": "stdout",
     "output_type": "stream",
     "text": [
      "----------GAUSS JORDAN METHOD-----------\n"
     ]
    },
    {
     "name": "stdin",
     "output_type": "stream",
     "text": [
      "ENTER THE NUMBER OF UNKNOWNS:  2\n",
      "a[0][0]=  1\n",
      "a[0][1]=  2\n",
      "a[0][2]=  3\n",
      "a[1][0]=  4\n",
      "a[1][1]=  5\n",
      "a[1][2]=  6\n"
     ]
    },
    {
     "name": "stdout",
     "output_type": "stream",
     "text": [
      "\n",
      "Augmented Matrix Coefficients:\n",
      "[[1. 2. 3.]\n",
      " [4. 5. 6.]]\n",
      "\n",
      "Required solution by Gauss-Jordan method:\n",
      "x[0] = -1.0000\tx[1] = 2.0000\t\n"
     ]
    }
   ],
   "source": [
    "import numpy as np\n",
    "import sys\n",
    "\n",
    "print(\"----------GAUSS JORDAN METHOD-----------\")\n",
    "n = int(input(\"ENTER THE NUMBER OF UNKNOWNS: \"))\n",
    "a = np.zeros((n, n + 1))\n",
    "x = np.zeros(n)\n",
    "for i in range(n):\n",
    "    for j in range(n + 1):\n",
    "        a[i][j] = float(input(f'a[{i}][{j}]= '))\n",
    "print(\"\\nAugmented Matrix Coefficients:\")\n",
    "print(a)\n",
    "for i in range(n):\n",
    "    if a[i][i] == 0.0:\n",
    "        sys.exit(\"\\nError: Division by zero detected.\")\n",
    "    div = a[i][i]\n",
    "    for j in range(n + 1):\n",
    "        a[i][j] /= div\n",
    "    for k in range(n):\n",
    "        if k != i:\n",
    "            ratio = a[k][i]\n",
    "            for j in range(n + 1):\n",
    "                a[k][j] -= ratio * a[i][j]\n",
    "for i in range(n):\n",
    "    x[i] = a[i][n]\n",
    "\n",
    "print(\"\\nRequired solution by Gauss-Jordan method:\")\n",
    "for i in range(n):\n",
    "    print(f'x[{i}] = {x[i]:.4f}', end=\"\\t\")\n",
    "print()\n"
   ]
  },
  {
   "cell_type": "markdown",
   "id": "96db02d7-3d2d-4374-a19e-1abfa8e5277f",
   "metadata": {},
   "source": [
    "## Question 6:\n",
    "### Generate basis of column space, null space, row space and left null space of a matrix space."
   ]
  },
  {
   "cell_type": "code",
   "execution_count": 18,
   "id": "7f3b2b3a-26db-436d-b256-f34d85e81374",
   "metadata": {},
   "outputs": [
    {
     "name": "stdout",
     "output_type": "stream",
     "text": [
      "Matrix Used is : \n",
      "Matrix([[1, 0, 1, 3], [2, 3, 4, 7], [-1, -3, -3, -4]])\n",
      "\n",
      "Column Space of the Matrix is : \n",
      "[Matrix([\n",
      "[ 1],\n",
      "[ 2],\n",
      "[-1]]), Matrix([\n",
      "[ 0],\n",
      "[ 3],\n",
      "[-3]])]\n",
      "\n",
      "Row Space of the Matrix is : \n",
      "[Matrix([[1, 0, 1, 3]]), Matrix([[0, 3, 2, 1]])]\n",
      "\n",
      "Null Space of the Matrix is : \n",
      "[Matrix([\n",
      "[  -1],\n",
      "[-2/3],\n",
      "[   1],\n",
      "[   0]]), Matrix([\n",
      "[  -3],\n",
      "[-1/3],\n",
      "[   0],\n",
      "[   1]])]\n",
      "\n",
      "Matrix Transpose is : \n",
      "Matrix([[1, 2, -1], [0, 3, -3], [1, 4, -3], [3, 7, -4]])\n",
      "\n",
      "Left Null Space of the Matrix is : \n",
      "[Matrix([\n",
      "[-1],\n",
      "[ 1],\n",
      "[ 1]])]\n"
     ]
    }
   ],
   "source": [
    "from sympy import *  \n",
    "M = Matrix([[1, 0, 1, 3], [2, 3, 4, 7], [-1, -3, -3, -4]])\n",
    "print(\"Matrix Used is : \")\n",
    "print(M)\n",
    "M_columnspace = M.columnspace()  \n",
    "      \n",
    "print(\"\\nColumn Space of the Matrix is : \")\n",
    "print(M_columnspace)\n",
    "\n",
    "# Use sympy.rowspace() method \n",
    "M_rowspace = M.rowspace()\n",
    "      \n",
    "print(\"\\nRow Space of the Matrix is : \")\n",
    "print(M_rowspace)\n",
    "\n",
    "# Use sympy.nullspace() method \n",
    "M_nullspace = M.nullspace()  \n",
    "      \n",
    "print(\"\\nNull Space of the Matrix is : \")\n",
    "print(M_nullspace)\n",
    "# Use sympy.nullspace() method \n",
    "MT = M.T\n",
    "M_leftnullspace = MT.nullspace()  \n",
    "print(\"\\nMatrix Transpose is : \")\n",
    "print(MT)\n",
    "\n",
    "print(\"\\nLeft Null Space of the Matrix is : \")\n",
    "print(M_leftnullspace)\n"
   ]
  },
  {
   "cell_type": "markdown",
   "id": "404b9242-35b4-4d81-a64a-510210fd28b3",
   "metadata": {},
   "source": [
    "## Question 7:\n",
    "### Check the linear dependence of vectors. Generate a linear combination of given vectors of Rn matrices of the same size and find the transition matrix of given matrix space."
   ]
  },
  {
   "cell_type": "code",
   "execution_count": 28,
   "id": "1f861cd5-5c59-4c67-83de-e5ae79093964",
   "metadata": {},
   "outputs": [
    {
     "name": "stdout",
     "output_type": "stream",
     "text": [
      "The matrix is:\n",
      " [[0 1 0 0]\n",
      " [0 0 1 0]\n",
      " [0 1 1 0]\n",
      " [1 0 0 1]]\n",
      "Determinant of the given matrix: 0.0\n",
      "\n",
      "I: [0 0 0 1]\n",
      "J: [1 0 1 0]\n",
      "Inner Product: 0\n",
      "Norm i: 1.0\n",
      "Norm j: 1.4142135623730951\n",
      "Independent\n",
      "\n",
      "I: [0 0 0 1]\n",
      "J: [0 1 1 0]\n",
      "Inner Product: 0\n",
      "Norm i: 1.0\n",
      "Norm j: 1.4142135623730951\n",
      "Independent\n",
      "\n",
      "I: [0 0 0 1]\n",
      "J: [0 0 0 1]\n",
      "Inner Product: 1\n",
      "Norm i: 1.0\n",
      "Norm j: 1.0\n",
      "Dependent\n",
      "\n",
      "I: [1 0 1 0]\n",
      "J: [0 0 0 1]\n",
      "Inner Product: 0\n",
      "Norm i: 1.4142135623730951\n",
      "Norm j: 1.0\n",
      "Independent\n",
      "\n",
      "I: [1 0 1 0]\n",
      "J: [0 1 1 0]\n",
      "Inner Product: 1\n",
      "Norm i: 1.4142135623730951\n",
      "Norm j: 1.4142135623730951\n",
      "Independent\n",
      "\n",
      "I: [1 0 1 0]\n",
      "J: [0 0 0 1]\n",
      "Inner Product: 0\n",
      "Norm i: 1.4142135623730951\n",
      "Norm j: 1.0\n",
      "Independent\n",
      "\n",
      "I: [0 1 1 0]\n",
      "J: [0 0 0 1]\n",
      "Inner Product: 0\n",
      "Norm i: 1.4142135623730951\n",
      "Norm j: 1.0\n",
      "Independent\n",
      "\n",
      "I: [0 1 1 0]\n",
      "J: [1 0 1 0]\n",
      "Inner Product: 1\n",
      "Norm i: 1.4142135623730951\n",
      "Norm j: 1.4142135623730951\n",
      "Independent\n",
      "\n",
      "I: [0 1 1 0]\n",
      "J: [0 0 0 1]\n",
      "Inner Product: 0\n",
      "Norm i: 1.4142135623730951\n",
      "Norm j: 1.0\n",
      "Independent\n",
      "\n",
      "I: [0 0 0 1]\n",
      "J: [0 0 0 1]\n",
      "Inner Product: 1\n",
      "Norm i: 1.0\n",
      "Norm j: 1.0\n",
      "Dependent\n",
      "\n",
      "I: [0 0 0 1]\n",
      "J: [1 0 1 0]\n",
      "Inner Product: 0\n",
      "Norm i: 1.0\n",
      "Norm j: 1.4142135623730951\n",
      "Independent\n",
      "\n",
      "I: [0 0 0 1]\n",
      "J: [0 1 1 0]\n",
      "Inner Product: 0\n",
      "Norm i: 1.0\n",
      "Norm j: 1.4142135623730951\n",
      "Independent\n"
     ]
    }
   ],
   "source": [
    "import numpy as np\n",
    "matrix = np.array([[0, 1, 0, 0], \n",
    "                   [0, 0, 1, 0], \n",
    "                   [0, 1, 1, 0], \n",
    "                   [1, 0, 0, 1]])\n",
    "\n",
    "print(\"The matrix is:\\n\", matrix)\n",
    "print(\"Determinant of the given matrix:\", np.linalg.det(matrix))\n",
    "for i in range(matrix.shape[0]):    \n",
    "    for j in range(matrix.shape[0]):\n",
    "        if i != j:\n",
    "            inner_product = np.inner(matrix[:, i], matrix[:, j])\n",
    "            norm_i = np.linalg.norm(matrix[:, i])\n",
    "            norm_j = np.linalg.norm(matrix[:, j])\n",
    "\n",
    "            print(\"\\nI:\", matrix[:, i]) \n",
    "            print(\"J:\", matrix[:, j])\n",
    "            print(\"Inner Product:\", inner_product)\n",
    "            print(\"Norm i:\", norm_i)\n",
    "            print(\"Norm j:\", norm_j)\n",
    "\n",
    "            if np.abs(inner_product - norm_j * norm_i) < 1E-5:\n",
    "                print(\"Dependent\")\n",
    "            else:\n",
    "                print(\"Independent\")"
   ]
  },
  {
   "cell_type": "markdown",
   "id": "7c4c356c-fd2e-4441-abf1-40bb6bc8c70e",
   "metadata": {},
   "source": [
    "## Question 8:\n",
    "### Find the orthonormal basis of a given vector space using the Gram-Schmidt orthogonalization process."
   ]
  },
  {
   "cell_type": "code",
   "execution_count": 31,
   "id": "323a5601-ca29-4a62-b83d-a8b21f0ee7a1",
   "metadata": {},
   "outputs": [
    {
     "name": "stdout",
     "output_type": "stream",
     "text": [
      "THE BASIS ARE:\n",
      " [[0.         0.         1.        ]\n",
      " [0.70710678 0.70710678 0.        ]]\n"
     ]
    },
    {
     "name": "stderr",
     "output_type": "stream",
     "text": [
      "C:\\Users\\ss724\\AppData\\Local\\Temp\\ipykernel_6616\\333762546.py:5: DeprecationWarning: Calling np.sum(generator) is deprecated, and in the future will give a different result. Use np.sum(np.fromiter(generator)) or the python sum builtin instead.\n",
      "  w = v - np.sum( np.dot(v,b)*b  for b in basis )\n"
     ]
    }
   ],
   "source": [
    "import numpy as np\n",
    "def gram_schmidt(vectors):\n",
    "    basis = []\n",
    "    for v in vectors:\n",
    "        w = v - np.sum( np.dot(v,b)*b  for b in basis )\n",
    "        if (w > 1e-10).any():  \n",
    "            basis.append(w/np.linalg.norm(w))\n",
    "    return np.array(basis)\n",
    "vectors = np.array(\n",
    "    [[0, 0, 1],\n",
    "     [0, 0, 1],\n",
    "     [1, 1, 1]])\n",
    "RS=gram_schmidt(vectors)\n",
    "print(\"THE BASIS ARE:\\n\", RS)"
   ]
  },
  {
   "cell_type": "code",
   "execution_count": null,
   "id": "d29d4b63-4202-4167-a9e8-cbb4fbba5555",
   "metadata": {},
   "outputs": [],
   "source": []
  },
  {
   "cell_type": "markdown",
   "id": "56789688-5c65-49b7-9a2c-06d32387a919",
   "metadata": {},
   "source": [
    "## Question 10:\n",
    "### Application of Linear algebra: Coding and decoding of messages using nonsingular matrices.eg code \"Linear Algebra is fun\" and then decode it."
   ]
  },
  {
   "cell_type": "code",
   "execution_count": 38,
   "id": "8752fded-3b1d-45cc-9f58-cbf16836f7ff",
   "metadata": {},
   "outputs": [
    {
     "name": "stdout",
     "output_type": "stream",
     "text": [
      "Encoding matrix:\n",
      " [[3 4]\n",
      " [3 6]]\n",
      "Encrypted form: [ 44  99  46  15  39 130   0  27 120  77  15  48 135  48  15  57 168   0\n",
      "  39 162 105  15]\n",
      "Decoded message: linear algebra is fun\n"
     ]
    }
   ],
   "source": [
    "import numpy as np\n",
    "from numpy.linalg import inv\n",
    "\n",
    "# Encoding matrix\n",
    "ecm = np.array([[3, 4], [3, 6]])\n",
    "\n",
    "# Lists of Alphabets and their values\n",
    "smallalpha = [\" \", \"a\", \"b\", \"c\", \"d\", \"e\", \"f\", \"g\", \"h\", \"i\", \"j\", \"k\", \"l\", \"m\", \"n\", \"o\",\n",
    "              \"p\", \"q\", \"r\", \"s\", \"t\", \"u\", \"v\", \"w\", \"x\", \"y\", \"z\"]\n",
    "capitalalpha = [\" \", \"A\", \"B\", \"C\", \"D\", \"E\", \"F\", \"G\", \"H\", \"I\", \"J\", \"K\", \"L\", \"M\", \"N\",\n",
    "                \"O\", \"P\", \"Q\", \"R\", \"S\", \"T\", \"U\", \"V\", \"W\", \"X\", \"Y\", \"Z\"]\n",
    "alphavalues = list(range(28))\n",
    "\n",
    "# String to convert\n",
    "b = \"Linear Algebra is Fun\"\n",
    "listb = list(b)\n",
    "lenb = len(listb)\n",
    "\n",
    "# Convert word to numeric values for encoding\n",
    "a = []\n",
    "for char in listb:\n",
    "    if char in smallalpha:\n",
    "        a.append(alphavalues[smallalpha.index(char)])\n",
    "    elif char in capitalalpha:\n",
    "        a.append(alphavalues[capitalalpha.index(char)])\n",
    "\n",
    "# Ensure length is even for matrix operations\n",
    "if len(a) % 2 == 1:\n",
    "    a.append(0)  # Padding with zero\n",
    "\n",
    "# Convert list to 2D array for matrix multiplication\n",
    "a = np.array(a).reshape(2, -1)\n",
    "\n",
    "# Multiply by encoding matrix\n",
    "c = np.matmul(ecm, a)\n",
    "\n",
    "# Convert back to 1D array for display\n",
    "encrypted_values = c.flatten().astype(int)\n",
    "\n",
    "print(\"Encoding matrix:\\n\", ecm)\n",
    "print(\"Encrypted form:\", encrypted_values)\n",
    "\n",
    "# Decoding process\n",
    "\n",
    "# Convert encrypted array back to 2D matrix\n",
    "tdm = encrypted_values.reshape(2, -1)\n",
    "\n",
    "# Multiply by inverse matrix\n",
    "dcm = np.matmul(inv(ecm), tdm)\n",
    "\n",
    "# Convert back to 1D array for extracting text\n",
    "decoded_values = np.round(dcm.flatten()).astype(int)\n",
    "\n",
    "# Create the decoded word\n",
    "decoded_text = \"\"\n",
    "for num in decoded_values:\n",
    "    if 0 <= num < len(smallalpha):  # Ensuring valid range\n",
    "        decoded_text += smallalpha[num]\n",
    "\n",
    "print(\"Decoded message:\", decoded_text.strip())  # Removing padding spaces if any\n"
   ]
  },
  {
   "cell_type": "markdown",
   "id": "1be319f8-6e02-4c66-ac24-4447bc51ff14",
   "metadata": {},
   "source": [
    "## Question 11:\n",
    "### Compute the gradient of a scalar field."
   ]
  },
  {
   "cell_type": "code",
   "execution_count": 40,
   "id": "677f5cb0-8653-400d-9976-979b66e6bfd2",
   "metadata": {},
   "outputs": [
    {
     "name": "stdout",
     "output_type": "stream",
     "text": [
      "GRADIENT OF A SCALAR FIELD\n",
      "\n",
      "Input    :  [ 1.  2.  4.  7. 11. 16.]\n",
      "\n",
      "Gradient :  [1.  1.5 2.5 3.5 4.5 5. ]\n"
     ]
    }
   ],
   "source": [
    "import numpy as np\n",
    "print(\"GRADIENT OF A SCALAR FIELD\")\n",
    "m= np.array([1, 2, 4, 7, 11, 16], dtype=float)\n",
    "print(\"\\nInput    : \", m)\n",
    "print(\"\\nGradient : \", np.gradient(m))"
   ]
  },
  {
   "cell_type": "markdown",
   "id": "1ef9642e-5c2e-4b7a-a9ad-42a71bbb0e09",
   "metadata": {},
   "source": [
    "## Question 12:\n",
    "### Compute Divergence of a vector field."
   ]
  },
  {
   "cell_type": "code",
   "execution_count": 41,
   "id": "7508d232-785c-4c24-9d94-127de52f955e",
   "metadata": {},
   "outputs": [
    {
     "name": "stdout",
     "output_type": "stream",
     "text": [
      "DIVERGENCE OF A VECTOR FIELD\n",
      "\n",
      " Input      :  [ 1.  2.  4.  7. 11. 16.]\n",
      "\n",
      " Divergence :  18.0\n"
     ]
    }
   ],
   "source": [
    "import numpy as np\n",
    "\n",
    "def divergence(F):\n",
    "    return np.ufunc.reduce(np.add,np.gradient(F))\n",
    "\n",
    "print(\"DIVERGENCE OF A VECTOR FIELD\")\n",
    "m = np.array([1, 2, 4, 7, 11, 16], dtype=float)\n",
    "\n",
    "print(\"\\n Input      : \", m)\n",
    "\n",
    "print(\"\\n Divergence : \", divergence(m))\n"
   ]
  },
  {
   "cell_type": "markdown",
   "id": "97709f01-1576-4973-9d93-97636dd6ab0f",
   "metadata": {},
   "source": [
    "## Question 13:\n",
    "### Compute curl of a vector field."
   ]
  },
  {
   "cell_type": "code",
   "execution_count": 42,
   "id": "9ea5164f-89aa-40f8-a62b-20c0bab31492",
   "metadata": {},
   "outputs": [
    {
     "name": "stdout",
     "output_type": "stream",
     "text": [
      "CURL OF A VECTOR FEILD\n",
      "\n",
      "Suppose F(x,y,z) = (y^2)zi - xyj + z2k, then:\n",
      "-> x would be R[0], y would be R[1] and z would be R[2]\n",
      "-> The unit vectors i, j, k of the 3 axes, would be respectively R.x, R.y, R.z\n",
      "\n",
      "Vector is    :  R_y**2*R_z*R.x - R_x*R_y*R.y + R_z**2*R.z\n",
      "\n",
      "Curl will be :  R_y**2*R.y + (-2*R_y*R_z - R_y)*R.z\n",
      "\n",
      "-> In other words, CURL = 0i + (y^2)j + (-2yz-y)k\n"
     ]
    }
   ],
   "source": [
    "from sympy.physics.vector import ReferenceFrame\n",
    "from sympy.physics.vector import curl\n",
    "R = ReferenceFrame('R')\n",
    "\n",
    "F = R[1]**2 * R[2] * R.x - R[0]*R[1] * R.y + R[2]**2 * R.z\n",
    "\n",
    "print(\"CURL OF A VECTOR FEILD\")\n",
    "\n",
    "print(\"\\nSuppose F(x,y,z) = (y^2)zi - xyj + z2k, then:\")\n",
    "print(\"-> x would be R[0], y would be R[1] and z would be R[2]\")\n",
    "print(\"-> The unit vectors i, j, k of the 3 axes, would be respectively R.x, R.y, R.z\")\n",
    "\n",
    "print(\"\\nVector is    : \", F)\n",
    "\n",
    "CURL = curl(F, R)  \n",
    "print(\"\\nCurl will be : \", CURL)\n",
    "\n",
    "print(\"\\n-> In other words, CURL = 0i + (y^2)j + (-2yz-y)k\")\n"
   ]
  },
  {
   "cell_type": "code",
   "execution_count": null,
   "id": "cb00f4cc-8bcc-4040-93a0-40248d0522e7",
   "metadata": {},
   "outputs": [],
   "source": []
  }
 ],
 "metadata": {
  "kernelspec": {
   "display_name": "Python 3 (ipykernel)",
   "language": "python",
   "name": "python3"
  },
  "language_info": {
   "codemirror_mode": {
    "name": "ipython",
    "version": 3
   },
   "file_extension": ".py",
   "mimetype": "text/x-python",
   "name": "python",
   "nbconvert_exporter": "python",
   "pygments_lexer": "ipython3",
   "version": "3.12.7"
  }
 },
 "nbformat": 4,
 "nbformat_minor": 5
}
